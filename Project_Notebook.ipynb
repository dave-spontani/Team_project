{
 "cells": [
  {
   "cell_type": "code",
   "execution_count": 8,
   "id": "f6bd39f0",
   "metadata": {},
   "outputs": [
    {
     "name": "stdout",
     "output_type": "stream",
     "text": [
      "['HUMIRA', 'ENBREL', 'ZANTAC', 'REVLIMID', 'METFORMIN', 'ASPIRIN', 'PREDNISONE.', 'AMLODIPINE', 'METHOTREXATE', 'ATORVASTATIN', 'ASPIRIN.', 'LYRICA', 'DUPIXENT', 'OMEPRAZOLE.', 'PROACTIV MD ADAPALENE ACNE TREATMENT', 'TYSABRI', 'PREDNISONE', 'LIPITOR', 'OXYCONTIN', 'XARELTO', 'NEXIUM', 'SYNTHROID', 'ELIQUIS', 'GABAPENTIN.', 'PANTOPRAZOLE', 'REMICADE', 'METHOTREXATE.', 'LISINOPRIL.', 'VITAMIN D', 'DEXAMETHASONE.', 'PROACTIV MD DEEP CLEANSING FACE WASH', 'AVONEX', 'PROLIA', 'PROACTIV MD DAILY OIL CONTROL SPF 30', 'COSENTYX', 'LASIX', 'OTEZLA', 'FUROSEMIDE.', 'VITAMIN D3', 'CALCIUM', 'RANITIDINE.', 'TYLENOL', 'MIRENA', 'SPIRIVA', 'OMEPRAZOLE', 'TECFIDERA', 'LANTUS', 'CYMBALTA', 'REPATHA', 'CRESTOR', 'LISINOPRIL', 'FOLIC ACID.', 'ACETAMINOPHEN', 'PLAVIX', 'FORTEO', 'SIMVASTATIN.', 'ENTRESTO', 'PRILOSEC', 'FOLIC ACID', 'HUMALOG', 'AVANDIA', 'IBUPROFEN.', 'DEXAMETHASONE', 'VITAMIN B12', 'CELEBREX', 'LEVOTHYROXINE.', 'XELJANZ', 'ORENCIA', 'PARACETAMOL', 'METOPROLOL.', 'FUROSEMIDE', 'XANAX', 'OXYCODONE', 'SIMVASTATIN', 'SINGULAIR', 'ONDANSETRON', 'SYMBICORT', 'COUMADIN', 'GILENYA', 'PROTONIX', 'GABAPENTIN', 'SERTRALINE', 'BISOPROLOL', 'DILAUDID', 'NEULASTA', 'FISH OIL', 'WARFARIN', 'STELARA', 'PREDNISOLONE.', 'ALLOPURINOL.', 'METOPROLOL', 'NORVASC', 'ZOLOFT', 'ZYRTEC', 'SEROQUEL', 'CHANTIX', 'ABILIFY', 'CITALOPRAM', 'IBRANCE', 'PERCOCET']\n"
     ]
    }
   ],
   "source": [
    "###############Query Builder for the FDA Api\n",
    "import requests\n",
    "##Base query: https://api.fda.gov/drug/event.json\n",
    "\n",
    "##query_url = \"https://api.fda.gov/drug/event.json?search=receivedate:[20040101+TO+20231207]&count=patient.drug.openfda.pharm_class_epc.exact\"\n",
    "\n",
    "query_url = \"https://api.fda.gov/drug/event.json?search=receivedate:[20220101+TO+20231207]&count=patient.drug.medicinalproduct.exact\"\n",
    "\n",
    "res = requests.get(query_url).json()\n",
    "\n",
    "####Get a full list of all the drug names first. We can use them to look for adverse effects later\n",
    "\n",
    "names_list = []\n",
    "\n",
    "for item in range(0,len(res[\"results\"])):\n",
    "    names_list.append(res[\"results\"][item][\"term\"])\n",
    "\n",
    "print(names_list)\n",
    "\n",
    "####Lovely!\n",
    "\n"
   ]
  },
  {
   "cell_type": "code",
   "execution_count": 9,
   "metadata": {},
   "outputs": [
    {
     "name": "stdout",
     "output_type": "stream",
     "text": [
      "  Serious Weight sex      date  \\\n",
      "0       2    N/A   2  20140312   \n",
      "1       2    N/A   2  20140312   \n",
      "2       1    N/A   2  20140312   \n",
      "3       1    N/A   2  20140312   \n",
      "4       2   82.1   1  20140312   \n",
      "\n",
      "                                           reactions  \n",
      "0                            [Drug hypersensitivity]  \n",
      "1                                        [Back pain]  \n",
      "2  [Cerebrovascular accident, Blood pressure incr...  \n",
      "3               [Oedema peripheral, Fluid retention]  \n",
      "4  [Hypertension, Dehydration, Night sweats, Pani...  \n",
      "[['Abdominal tenderness', 1], ['Coronary arterial stent insertion', 1], ['Drug ineffective', 2], ['Laboratory test abnormal', 1], ['Haemoglobin decreased', 4], ['Dehydration', 1], ['Influenza', 1], ['Off label use', 1], ['Wrong technique in product usage process', 1], ['Drug dose omission', 1], ['Heart rate increased', 1], ['Increased tendency to bruise', 1], ['Asthenia', 1], ['Chest pain', 1], ['Back pain', 1], ['Mobility decreased', 1], ['Nephrolithiasis', 1], ['Platelet count decreased', 3], ['Psychotic disorder', 1], ['Hyperkalaemia', 1], ['Alopecia', 1], ['Hyperlipidaemia', 1], ['Abdominal pain', 1], ['Arteritis', 1], ['Constipation', 1], ['Contusion', 3], ['Blood pressure increased', 1], ['Blindness', 1], ['Stem cell transplant', 1], ['Type 2 diabetes mellitus', 3], ['Arteriogram coronary abnormal', 1], ['Fatigue', 3], ['Weight decreased', 1], ['Insomnia', 1], ['Weight increased', 4], ['Fall', 1], ['Headache', 4], ['Disease progression', 1], ['Bipolar disorder', 1], ['Panic attack', 1], ['Nasopharyngitis', 1], ['Grand mal convulsion', 1], ['Pneumonia', 2], ['Furuncle', 1], ['Hypertension', 3], ['Gait disturbance', 1], ['Dry eye', 1], ['Pain in extremity', 1], ['Pruritus', 1], ['Nausea', 4], ['Renal impairment', 1], ['Myocardial infarction', 2], ['Spinal disorder', 1], ['Cardiac stress test abnormal', 1], ['Feeling abnormal', 1], ['Myopathy', 1], ['Oedema peripheral', 1], ['Pain', 3], ['Malaise', 1], ['Epistaxis', 1], ['Rash', 4], ['Overdose', 1], ['Cold sweat', 1], ['Hepatic failure', 1], ['Transfusion', 1], ['Oral mucosal erythema', 1], ['White blood cell count increased', 2], ['Sleep disorder', 1], ['Kidney infection', 1], ['Blood glucose increased', 1], ['Incontinence', 2], ['Treatment noncompliance', 1], ['Diarrhoea', 4], ['Chills', 2], ['Skin cancer', 1], ['Mental status changes', 1], ['Memory impairment', 1], ['Withdrawal syndrome', 1], ['Eye disorder', 1], ['Hyperhidrosis', 1], ['Vomiting', 1], ['Amnesia', 1], ['Drug hypersensitivity', 2], ['Increased appetite', 2], ['Muscle spasms', 1], ['Dyspepsia', 1], ['Pancreatitis acute', 1], ['Hip fracture', 1], ['Dysgeusia', 1], ['Visual impairment', 1], ['Platelet count increased', 1], ['Lower gastrointestinal haemorrhage', 1], ['Neuropathy peripheral', 1], ['Palpitations', 2], ['Flatulence', 1], ['Fluid retention', 1], ['Graft versus host disease', 1], ['Anaemia', 2], ['Thrombotic microangiopathy', 1], ['Respiratory failure', 1], ['Dyspnoea', 3], ['Blood count abnormal', 3], ['Night sweats', 1], ['Urinary tract infection', 1], ['Oral pain', 1], ['Drug administration error', 4], ['Skin discolouration', 1], ['Rehabilitation therapy', 1], ['Cerebrovascular accident', 2], ['Depression', 1], ['Cardiac failure', 1], ['Dizziness', 5]]\n",
      "{'Dizziness': 5, 'Haemoglobin decreased': 4, 'Weight increased': 4, 'Headache': 4, 'Nausea': 4, 'Rash': 4, 'Diarrhoea': 4, 'Drug administration error': 4, 'Platelet count decreased': 3, 'Contusion': 3, 'Type 2 diabetes mellitus': 3, 'Fatigue': 3, 'Hypertension': 3, 'Pain': 3, 'Dyspnoea': 3, 'Blood count abnormal': 3, 'Drug ineffective': 2, 'Pneumonia': 2, 'Myocardial infarction': 2, 'White blood cell count increased': 2, 'Incontinence': 2, 'Chills': 2, 'Drug hypersensitivity': 2, 'Increased appetite': 2, 'Palpitations': 2, 'Anaemia': 2, 'Cerebrovascular accident': 2, 'Abdominal tenderness': 1, 'Coronary arterial stent insertion': 1, 'Laboratory test abnormal': 1, 'Dehydration': 1, 'Influenza': 1, 'Off label use': 1, 'Wrong technique in product usage process': 1, 'Drug dose omission': 1, 'Heart rate increased': 1, 'Increased tendency to bruise': 1, 'Asthenia': 1, 'Chest pain': 1, 'Back pain': 1, 'Mobility decreased': 1, 'Nephrolithiasis': 1, 'Psychotic disorder': 1, 'Hyperkalaemia': 1, 'Alopecia': 1, 'Hyperlipidaemia': 1, 'Abdominal pain': 1, 'Arteritis': 1, 'Constipation': 1, 'Blood pressure increased': 1, 'Blindness': 1, 'Stem cell transplant': 1, 'Arteriogram coronary abnormal': 1, 'Weight decreased': 1, 'Insomnia': 1, 'Fall': 1, 'Disease progression': 1, 'Bipolar disorder': 1, 'Panic attack': 1, 'Nasopharyngitis': 1, 'Grand mal convulsion': 1, 'Furuncle': 1, 'Gait disturbance': 1, 'Dry eye': 1, 'Pain in extremity': 1, 'Pruritus': 1, 'Renal impairment': 1, 'Spinal disorder': 1, 'Cardiac stress test abnormal': 1, 'Feeling abnormal': 1, 'Myopathy': 1, 'Oedema peripheral': 1, 'Malaise': 1, 'Epistaxis': 1, 'Overdose': 1, 'Cold sweat': 1, 'Hepatic failure': 1, 'Transfusion': 1, 'Oral mucosal erythema': 1, 'Sleep disorder': 1, 'Kidney infection': 1, 'Blood glucose increased': 1, 'Treatment noncompliance': 1, 'Skin cancer': 1, 'Mental status changes': 1, 'Memory impairment': 1, 'Withdrawal syndrome': 1, 'Eye disorder': 1, 'Hyperhidrosis': 1, 'Vomiting': 1, 'Amnesia': 1, 'Muscle spasms': 1, 'Dyspepsia': 1, 'Pancreatitis acute': 1, 'Hip fracture': 1, 'Dysgeusia': 1, 'Visual impairment': 1, 'Platelet count increased': 1, 'Lower gastrointestinal haemorrhage': 1, 'Neuropathy peripheral': 1, 'Flatulence': 1, 'Fluid retention': 1, 'Graft versus host disease': 1, 'Thrombotic microangiopathy': 1, 'Respiratory failure': 1, 'Night sweats': 1, 'Urinary tract infection': 1, 'Oral pain': 1, 'Skin discolouration': 1, 'Rehabilitation therapy': 1, 'Depression': 1, 'Cardiac failure': 1}\n"
     ]
    }
   ],
   "source": [
    "########Now we get the concrete calls:\n",
    "import pandas as pd \n",
    "\n",
    "second_query = 'https://api.fda.gov/drug/event.json?search=(receivedate:[20040101+TO+20231207])+AND+patient.drug.medicinalproduct:\"ASPIRIN\"&limit=50'\n",
    "\n",
    "#second_query = 'https://api.fda.gov/drug/event.json?search=(receivedate:[20040101+TO+20231207])+AND+patient.drug.medicinalproduct:\"ASPIRIN\"&limit=50'\n",
    "\n",
    "res_02 = requests.get(second_query).json()\n",
    "\n",
    "#print(res_02[\"results\"][0])\n",
    "\n",
    "#Trial DF\n",
    "\n",
    "dataframe_setup = []\n",
    "\n",
    "for patient in range(0,len(res_02[\"results\"])):\n",
    "    #print(patient)\n",
    "    ##Create a new line\n",
    "    line = []\n",
    "\n",
    "    ###Simplified: Serious, weight, sex, date, reactions get appended inndeiately without specification\n",
    "    reactions = []\n",
    "    for reaction in range(0,len(res_02[\"results\"][patient][\"patient\"]['reaction'])):\n",
    "        reactions.append(res_02[\"results\"][patient][\"patient\"]['reaction'][reaction]['reactionmeddrapt'])\n",
    "        #print(res_02[\"results\"][patient][\"patient\"]['reaction'][reaction]['reactionmeddrapt'])\n",
    "\n",
    "    try:\n",
    "        line.append(res_02[\"results\"][patient][\"serious\"])\n",
    "    except:\n",
    "        line.append(\"N/A\")\n",
    "    try:\n",
    "        line.append(res_02[\"results\"][patient][\"patient\"][\"patientweight\"])\n",
    "    except: \n",
    "        line.append(\"N/A\")\n",
    "    try:\n",
    "        line.append(res_02[\"results\"][patient][\"patient\"][\"patientsex\"])\n",
    "    except:\n",
    "        line.append(\"N/A\")\n",
    "    try:    \n",
    "        line.append(res_02[\"results\"][patient][\"receivedate\"])\n",
    "    except:\n",
    "        line.append(\"N/A\")\n",
    "    try:\n",
    "        line.append(reactions)\n",
    "    except:\n",
    "        line.append(\"N/A\")\n",
    "\n",
    "    #print(line)\n",
    "\n",
    "    ###Append Line to dataframe_setup\n",
    "    dataframe_setup.append(line)\n",
    "\n",
    "\n",
    "#print(dataframe_setup)\n",
    "#######Create Dataframe:\n",
    "\n",
    "patients = pd.DataFrame(dataframe_setup, columns =['Serious', 'Weight', \"sex\", \"date\", \"reactions\"]) \n",
    "\n",
    "print(patients.head())\n",
    "\n",
    "reactions = patients[\"reactions\"].tolist()\n",
    "\n",
    "reactions_list = [j for sub in reactions for j in sub]\n",
    "\n",
    "final_react_count = [[x,reactions_list.count(x)] for x in set(reactions_list)]\n",
    "\n",
    "final_react_dict =  {}\n",
    "\n",
    "for elem in range(0, len(final_react_count)):\n",
    "    final_react_dict[final_react_count[elem][0]] = final_react_count[elem][1]\n",
    "\n",
    "\n",
    "sorted_reactions = sorted(final_react_dict.items(), key=lambda x:x[1], reverse=True)\n",
    "final_react_dict_sorted = dict(sorted_reactions )\n",
    "\n",
    "\n",
    "print(final_react_count)\n",
    "\n",
    "print(final_react_dict_sorted)\n"
   ]
  },
  {
   "cell_type": "code",
   "execution_count": 7,
   "metadata": {},
   "outputs": [
    {
     "name": "stdout",
     "output_type": "stream",
     "text": [
      "https://api.fda.gov/drug/event.json?search=(receivedate:[20040101+TO+20231207])+AND+patient.drug.medicinalproduct:\"ASPIRIN\"+AND+patient.patientsex:1&limit=50'\n"
     ]
    }
   ],
   "source": [
    "###Easier: Find cases based on symptoms, then suggest drugs\n",
    "###Query builder\n",
    "\n",
    "start = \"2004\"\n",
    "\n",
    "finish = \"2023\"\n",
    "\n",
    "date_range = f\"(receivedate:[{start}0101+TO+{finish}1207])\"\n",
    "\n",
    "med = \"ASPIRIN\"\n",
    "\n",
    "speed = \"&limit=50'\"\n",
    "\n",
    "product = f'+AND+patient.drug.medicinalproduct:\"{med}\"'\n",
    "\n",
    "sex_binary = \"1\"\n",
    "\n",
    "sex = f'+AND+patient.patientsex:{sex_binary}'\n",
    "\n",
    "query_builder = f'https://api.fda.gov/drug/event.json?search={date_range}{product}{sex}{speed}'\n",
    "\n",
    "\n",
    "print(query_builder)"
   ]
  },
  {
   "cell_type": "markdown",
   "id": "fdd4dd87",
   "metadata": {},
   "source": [
    "Here is an environment in which you can try stuff out"
   ]
  }
 ],
 "metadata": {
  "kernelspec": {
   "display_name": "Python 3 (ipykernel)",
   "language": "python",
   "name": "python3"
  },
  "language_info": {
   "codemirror_mode": {
    "name": "ipython",
    "version": 3
   },
   "file_extension": ".py",
   "mimetype": "text/x-python",
   "name": "python",
   "nbconvert_exporter": "python",
   "pygments_lexer": "ipython3",
   "version": "3.11.4"
  }
 },
 "nbformat": 4,
 "nbformat_minor": 5
}
