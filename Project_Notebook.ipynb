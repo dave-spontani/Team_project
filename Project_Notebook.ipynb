{
 "cells": [
  {
   "cell_type": "code",
   "execution_count": 8,
   "id": "f6bd39f0",
   "metadata": {},
   "outputs": [
    {
     "name": "stdout",
     "output_type": "stream",
     "text": [
      "['HUMIRA', 'ENBREL', 'ZANTAC', 'REVLIMID', 'METFORMIN', 'ASPIRIN', 'PREDNISONE.', 'AMLODIPINE', 'METHOTREXATE', 'ATORVASTATIN', 'ASPIRIN.', 'LYRICA', 'DUPIXENT', 'OMEPRAZOLE.', 'PROACTIV MD ADAPALENE ACNE TREATMENT', 'TYSABRI', 'PREDNISONE', 'LIPITOR', 'OXYCONTIN', 'XARELTO', 'NEXIUM', 'SYNTHROID', 'ELIQUIS', 'GABAPENTIN.', 'PANTOPRAZOLE', 'REMICADE', 'METHOTREXATE.', 'LISINOPRIL.', 'VITAMIN D', 'DEXAMETHASONE.', 'PROACTIV MD DEEP CLEANSING FACE WASH', 'AVONEX', 'PROLIA', 'PROACTIV MD DAILY OIL CONTROL SPF 30', 'COSENTYX', 'LASIX', 'OTEZLA', 'FUROSEMIDE.', 'VITAMIN D3', 'CALCIUM', 'RANITIDINE.', 'TYLENOL', 'MIRENA', 'SPIRIVA', 'OMEPRAZOLE', 'TECFIDERA', 'LANTUS', 'CYMBALTA', 'REPATHA', 'CRESTOR', 'LISINOPRIL', 'FOLIC ACID.', 'ACETAMINOPHEN', 'PLAVIX', 'FORTEO', 'SIMVASTATIN.', 'ENTRESTO', 'PRILOSEC', 'FOLIC ACID', 'HUMALOG', 'AVANDIA', 'IBUPROFEN.', 'DEXAMETHASONE', 'VITAMIN B12', 'CELEBREX', 'LEVOTHYROXINE.', 'XELJANZ', 'ORENCIA', 'PARACETAMOL', 'METOPROLOL.', 'FUROSEMIDE', 'XANAX', 'OXYCODONE', 'SIMVASTATIN', 'SINGULAIR', 'ONDANSETRON', 'SYMBICORT', 'COUMADIN', 'GILENYA', 'PROTONIX', 'GABAPENTIN', 'SERTRALINE', 'BISOPROLOL', 'DILAUDID', 'NEULASTA', 'FISH OIL', 'WARFARIN', 'STELARA', 'PREDNISOLONE.', 'ALLOPURINOL.', 'METOPROLOL', 'NORVASC', 'ZOLOFT', 'ZYRTEC', 'SEROQUEL', 'CHANTIX', 'ABILIFY', 'CITALOPRAM', 'IBRANCE', 'PERCOCET']\n"
     ]
    }
   ],
   "source": [
    "###############Query Builder for the FDA Api\n",
    "import requests\n",
    "##Base query: https://api.fda.gov/drug/event.json\n",
    "\n",
    "##query_url = \"https://api.fda.gov/drug/event.json?search=receivedate:[20040101+TO+20231207]&count=patient.drug.openfda.pharm_class_epc.exact\"\n",
    "\n",
    "query_url = \"https://api.fda.gov/drug/event.json?search=receivedate:[20220101+TO+20231207]&count=patient.drug.medicinalproduct.exact\"\n",
    "\n",
    "res = requests.get(query_url).json()\n",
    "\n",
    "####Get a full list of all the drug names first. We can use them to look for adverse effects later\n",
    "\n",
    "names_list = []\n",
    "\n",
    "for item in range(0,len(res[\"results\"])):\n",
    "    names_list.append(res[\"results\"][item][\"term\"])\n",
    "\n",
    "print(names_list)\n",
    "\n",
    "####Lovely!\n",
    "\n"
   ]
  },
  {
   "cell_type": "code",
   "execution_count": 8,
   "metadata": {},
   "outputs": [
    {
     "name": "stdout",
     "output_type": "stream",
     "text": [
      "  Serious Weight sex      date  \\\n",
      "0       2   82.1   1  20140312   \n",
      "1       1    N/A   1  20140312   \n",
      "2       1    N/A   1  20140312   \n",
      "3       1  65.31   1  20140312   \n",
      "4       1  83.54   1  20140312   \n",
      "\n",
      "                                           reactions  \n",
      "0  [Hypertension, Dehydration, Night sweats, Pani...  \n",
      "1                                      [Transfusion]  \n",
      "2                             [Influenza, Pneumonia]  \n",
      "3                         [Type 2 diabetes mellitus]  \n",
      "4          [Grand mal convulsion, Vomiting, Amnesia]  \n",
      "[['Coronary arterial stent insertion', 1], ['Drug ineffective', 2], ['Cardiac arrest', 2], ['Haemoglobin decreased', 1], ['Dehydration', 2], ['Influenza', 2], ['Off label use', 1], ['Diverticulum intestinal haemorrhagic', 1], ['Heart rate increased', 2], ['Hypogonadism', 1], ['Gastrointestinal haemorrhage', 2], ['Drug withdrawal syndrome', 1], ['Asthenia', 1], ['Atrial fibrillation', 2], ['Nephrolithiasis', 1], ['Platelet count decreased', 2], ['Transaminases increased', 1], ['Psychotic disorder', 1], ['Hyperlipidaemia', 1], ['Wrong technique in drug usage process', 1], ['Abdominal pain', 1], ['Hyponatraemia', 1], ['Contusion', 2], ['Stem cell transplant', 1], ['Type 2 diabetes mellitus', 1], ['Cerebellar ataxia', 1], ['Incorrect dose administered', 1], ['Small fibre neuropathy', 1], ['Fatigue', 6], ['Weight decreased', 2], ['Rectal haemorrhage', 1], ['Hypoacusis', 1], ['Coronary artery occlusion', 1], ['Left atrial dilatation', 1], ['Insomnia', 5], ['Weight increased', 1], ['Genital rash', 1], ['Headache', 3], ['Disease progression', 1], ['Bipolar disorder', 1], ['Retroperitoneal haemorrhage', 1], ['Panic attack', 1], ['Nasopharyngitis', 1], ['Grand mal convulsion', 1], ['Pneumonia', 2], ['Furuncle', 1], ['Blood pressure decreased', 1], ['Hypertension', 3], ['Gait disturbance', 1], ['Melaena', 1], ['Pain in extremity', 2], ['Death', 3], ['Nausea', 1], ['Atypical pneumonia', 1], ['Renal impairment', 1], ['Myocardial infarction', 2], ['Hypersensitivity', 1], ['Ventricular fibrillation', 1], ['Computerised tomogram abnormal', 1], ['Haemorrhagic diathesis', 1], ['Myopathy', 1], ['Joint swelling', 1], ['Pain', 2], ['Malaise', 1], ['Epistaxis', 1], ['Ejection fraction decreased', 1], ['Rash', 6], ['Overdose', 2], ['Respiratory distress', 1], ['Disturbance in attention', 1], ['Cold sweat', 1], ['Hepatic failure', 1], ['Transfusion', 1], ['Kidney infection', 1], ['Sleep disorder', 1], ['White blood cell count increased', 1], ['Ventricular tachycardia', 1], ['Blood glucose increased', 1], ['Sinus bradycardia', 1], ['White blood cell count decreased', 1], ['Oropharyngeal pain', 1], ['Chronic lymphocytic leukaemia', 1], ['Product quality issue', 2], ['Blood glucose abnormal', 1], ['Diarrhoea', 3], ['Sleep apnoea syndrome', 1], ['Loss of consciousness', 1], ['Mental status changes', 1], ['Cardio-respiratory arrest', 1], ['Memory impairment', 2], ['Metastases to bone', 1], ['Withdrawal syndrome', 1], ['Adverse drug reaction', 1], ['Coronary artery disease', 1], ['Hyperhidrosis', 2], ['Anxiety', 1], ['Vomiting', 1], ['Amnesia', 1], ['Ischaemic cardiomyopathy', 1], ['Flushing', 1], ['Muscle spasms', 2], ['Unresponsive to stimuli', 1], ['Septic shock', 1], ['Dyspepsia', 1], ['Inappropriate schedule of drug administration', 1], ['Sinusitis', 1], ['Hip fracture', 1], ['Dysgeusia', 1], ['Neuropathy peripheral', 1], ['Haemorrhage', 1], ['Palpitations', 1], ['Decreased appetite', 1], ['Cardiac failure congestive', 1], ['Blood urine present', 1], ['Graft versus host disease', 1], ['Anaemia', 3], ['Thrombotic microangiopathy', 1], ['Respiratory failure', 3], ['Acute myocardial infarction', 1], ['Haematochezia', 1], ['Eye swelling', 1], ['Intentional underdose', 1], ['Blood count abnormal', 1], ['Dyspnoea', 3], ['Gallbladder disorder', 1], ['Night sweats', 1], ['Drug interaction', 3], ['Drug administration error', 3], ['Skin discolouration', 1], ['Hearing impaired', 1], ['Renal failure acute', 1], ['Cerebrovascular accident', 1], ['Depression', 1], ['Dry skin', 1], ['Cardiac failure', 1], ['Dizziness', 4], ['Cardiac failure acute', 1]]\n",
      "{'Fatigue': 6, 'Rash': 6, 'Insomnia': 5, 'Dizziness': 4, 'Headache': 3, 'Hypertension': 3, 'Death': 3, 'Diarrhoea': 3, 'Anaemia': 3, 'Respiratory failure': 3, 'Dyspnoea': 3, 'Drug interaction': 3, 'Drug administration error': 3, 'Drug ineffective': 2, 'Cardiac arrest': 2, 'Dehydration': 2, 'Influenza': 2, 'Heart rate increased': 2, 'Gastrointestinal haemorrhage': 2, 'Atrial fibrillation': 2, 'Platelet count decreased': 2, 'Contusion': 2, 'Weight decreased': 2, 'Pneumonia': 2, 'Pain in extremity': 2, 'Myocardial infarction': 2, 'Pain': 2, 'Overdose': 2, 'Product quality issue': 2, 'Memory impairment': 2, 'Hyperhidrosis': 2, 'Muscle spasms': 2, 'Coronary arterial stent insertion': 1, 'Haemoglobin decreased': 1, 'Off label use': 1, 'Diverticulum intestinal haemorrhagic': 1, 'Hypogonadism': 1, 'Drug withdrawal syndrome': 1, 'Asthenia': 1, 'Nephrolithiasis': 1, 'Transaminases increased': 1, 'Psychotic disorder': 1, 'Hyperlipidaemia': 1, 'Wrong technique in drug usage process': 1, 'Abdominal pain': 1, 'Hyponatraemia': 1, 'Stem cell transplant': 1, 'Type 2 diabetes mellitus': 1, 'Cerebellar ataxia': 1, 'Incorrect dose administered': 1, 'Small fibre neuropathy': 1, 'Rectal haemorrhage': 1, 'Hypoacusis': 1, 'Coronary artery occlusion': 1, 'Left atrial dilatation': 1, 'Weight increased': 1, 'Genital rash': 1, 'Disease progression': 1, 'Bipolar disorder': 1, 'Retroperitoneal haemorrhage': 1, 'Panic attack': 1, 'Nasopharyngitis': 1, 'Grand mal convulsion': 1, 'Furuncle': 1, 'Blood pressure decreased': 1, 'Gait disturbance': 1, 'Melaena': 1, 'Nausea': 1, 'Atypical pneumonia': 1, 'Renal impairment': 1, 'Hypersensitivity': 1, 'Ventricular fibrillation': 1, 'Computerised tomogram abnormal': 1, 'Haemorrhagic diathesis': 1, 'Myopathy': 1, 'Joint swelling': 1, 'Malaise': 1, 'Epistaxis': 1, 'Ejection fraction decreased': 1, 'Respiratory distress': 1, 'Disturbance in attention': 1, 'Cold sweat': 1, 'Hepatic failure': 1, 'Transfusion': 1, 'Kidney infection': 1, 'Sleep disorder': 1, 'White blood cell count increased': 1, 'Ventricular tachycardia': 1, 'Blood glucose increased': 1, 'Sinus bradycardia': 1, 'White blood cell count decreased': 1, 'Oropharyngeal pain': 1, 'Chronic lymphocytic leukaemia': 1, 'Blood glucose abnormal': 1, 'Sleep apnoea syndrome': 1, 'Loss of consciousness': 1, 'Mental status changes': 1, 'Cardio-respiratory arrest': 1, 'Metastases to bone': 1, 'Withdrawal syndrome': 1, 'Adverse drug reaction': 1, 'Coronary artery disease': 1, 'Anxiety': 1, 'Vomiting': 1, 'Amnesia': 1, 'Ischaemic cardiomyopathy': 1, 'Flushing': 1, 'Unresponsive to stimuli': 1, 'Septic shock': 1, 'Dyspepsia': 1, 'Inappropriate schedule of drug administration': 1, 'Sinusitis': 1, 'Hip fracture': 1, 'Dysgeusia': 1, 'Neuropathy peripheral': 1, 'Haemorrhage': 1, 'Palpitations': 1, 'Decreased appetite': 1, 'Cardiac failure congestive': 1, 'Blood urine present': 1, 'Graft versus host disease': 1, 'Thrombotic microangiopathy': 1, 'Acute myocardial infarction': 1, 'Haematochezia': 1, 'Eye swelling': 1, 'Intentional underdose': 1, 'Blood count abnormal': 1, 'Gallbladder disorder': 1, 'Night sweats': 1, 'Skin discolouration': 1, 'Hearing impaired': 1, 'Renal failure acute': 1, 'Cerebrovascular accident': 1, 'Depression': 1, 'Dry skin': 1, 'Cardiac failure': 1, 'Cardiac failure acute': 1}\n"
     ]
    }
   ],
   "source": [
    "########Now we get the concrete calls:\n",
    "import pandas as pd \n",
    "\n",
    "second_query = 'https://api.fda.gov/drug/event.json?search=(receivedate:[20040101+TO+20231207])+AND+patient.drug.medicinalproduct:\"ASPIRIN\"&limit=50'\n",
    "\n",
    "#second_query = 'https://api.fda.gov/drug/event.json?search=(receivedate:[20040101+TO+20231207])+AND+patient.drug.medicinalproduct:\"ASPIRIN\"&limit=50'\n",
    "\n",
    "res_02 = requests.get(second_query).json()\n",
    "\n",
    "#print(res_02[\"results\"][0])\n",
    "\n",
    "#Trial DF\n",
    "\n",
    "dataframe_setup = []\n",
    "\n",
    "for patient in range(0,len(res_02[\"results\"])):\n",
    "    #print(patient)\n",
    "    ##Create a new line\n",
    "    line = []\n",
    "\n",
    "    ###Simplified: Serious, weight, sex, date, reactions get appended inndeiately without specification\n",
    "    reactions = []\n",
    "    for reaction in range(0,len(res_02[\"results\"][patient][\"patient\"]['reaction'])):\n",
    "        reactions.append(res_02[\"results\"][patient][\"patient\"]['reaction'][reaction]['reactionmeddrapt'])\n",
    "        #print(res_02[\"results\"][patient][\"patient\"]['reaction'][reaction]['reactionmeddrapt'])\n",
    "\n",
    "    try:\n",
    "        line.append(res_02[\"results\"][patient][\"serious\"])\n",
    "    except:\n",
    "        line.append(\"N/A\")\n",
    "    try:\n",
    "        line.append(res_02[\"results\"][patient][\"patient\"][\"patientweight\"])\n",
    "    except: \n",
    "        line.append(\"N/A\")\n",
    "    try:\n",
    "        line.append(res_02[\"results\"][patient][\"patient\"][\"patientsex\"])\n",
    "    except:\n",
    "        line.append(\"N/A\")\n",
    "    try:    \n",
    "        line.append(res_02[\"results\"][patient][\"receivedate\"])\n",
    "    except:\n",
    "        line.append(\"N/A\")\n",
    "    try:\n",
    "        line.append(reactions)\n",
    "    except:\n",
    "        line.append(\"N/A\")\n",
    "\n",
    "    #print(line)\n",
    "\n",
    "    ###Append Line to dataframe_setup\n",
    "    dataframe_setup.append(line)\n",
    "\n",
    "\n",
    "#print(dataframe_setup)\n",
    "#######Create Dataframe:\n",
    "\n",
    "patients = pd.DataFrame(dataframe_setup, columns =['Serious', 'Weight', \"sex\", \"date\", \"reactions\"]) \n",
    "\n",
    "print(patients.head())\n",
    "\n",
    "reactions = patients[\"reactions\"].tolist()\n",
    "\n",
    "reactions_list = [j for sub in reactions for j in sub]\n",
    "\n",
    "final_react_count = [[x,reactions_list.count(x)] for x in set(reactions_list)]\n",
    "\n",
    "final_react_dict =  {}\n",
    "\n",
    "for elem in range(0, len(final_react_count)):\n",
    "    final_react_dict[final_react_count[elem][0]] = final_react_count[elem][1]\n",
    "\n",
    "\n",
    "sorted_reactions = sorted(final_react_dict.items(), key=lambda x:x[1], reverse=True)\n",
    "final_react_dict_sorted = dict(sorted_reactions )\n",
    "\n",
    "\n",
    "print(final_react_count)\n",
    "\n",
    "print(final_react_dict_sorted)\n"
   ]
  },
  {
   "cell_type": "code",
   "execution_count": 7,
   "metadata": {},
   "outputs": [
    {
     "name": "stdout",
     "output_type": "stream",
     "text": [
      "https://api.fda.gov/drug/event.json?search=(receivedate:[20040101+TO+20231207])+AND+patient.drug.medicinalproduct:\"ASPIRIN\"+AND+patient.patientsex:1&limit=50'\n"
     ]
    }
   ],
   "source": [
    "###Easier: Find cases based on symptoms, then suggest drugs\n",
    "###Query builder\n",
    "\n",
    "start = \"2004\"\n",
    "\n",
    "finish = \"2023\"\n",
    "\n",
    "date_range = f\"(receivedate:[{start}0101+TO+{finish}1207])\"\n",
    "\n",
    "med = \"ASPIRIN\"\n",
    "\n",
    "speed = \"&limit=50'\"\n",
    "\n",
    "product = f'+AND+patient.drug.medicinalproduct:\"{med}\"'\n",
    "\n",
    "sex_binary = \"1\"\n",
    "\n",
    "sex = f'+AND+patient.patientsex:{sex_binary}'\n",
    "\n",
    "query_builder = f'https://api.fda.gov/drug/event.json?search={date_range}{product}{sex}{speed}'\n",
    "\n",
    "\n",
    "print(query_builder)"
   ]
  },
  {
   "cell_type": "markdown",
   "id": "fdd4dd87",
   "metadata": {},
   "source": [
    "Here is an environment in which you can try stuff out"
   ]
  }
 ],
 "metadata": {
  "kernelspec": {
   "display_name": "Python 3 (ipykernel)",
   "language": "python",
   "name": "python3"
  },
  "language_info": {
   "codemirror_mode": {
    "name": "ipython",
    "version": 3
   },
   "file_extension": ".py",
   "mimetype": "text/x-python",
   "name": "python",
   "nbconvert_exporter": "python",
   "pygments_lexer": "ipython3",
   "version": "3.11.4"
  }
 },
 "nbformat": 4,
 "nbformat_minor": 5
}
